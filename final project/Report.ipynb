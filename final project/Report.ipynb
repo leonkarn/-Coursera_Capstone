{
  "nbformat": 4,
  "nbformat_minor": 0,
  "metadata": {
    "colab": {
      "name": "Report",
      "provenance": [],
      "collapsed_sections": []
    },
    "kernelspec": {
      "name": "python3",
      "display_name": "Python 3"
    }
  },
  "cells": [
    {
      "cell_type": "markdown",
      "metadata": {
        "id": "dClf8xjJ_5rX",
        "colab_type": "text"
      },
      "source": [
        "##**Introduction**\n",
        "The problem I would like to adress is where it would be beneficial to make a good investement for someone wants to start a new coffee or restaurant business in London. This is for someone that actually has the money to open a new restaurant and his intentions are to open to a crowded area of London and after expand."
      ]
    },
    {
      "cell_type": "markdown",
      "metadata": {
        "id": "HF_Ffdue_51o",
        "colab_type": "text"
      },
      "source": [
        "#**Data**\n",
        "The source of the data is https://en.wikipedia.org/wiki/List_of_English_districts_by_population_density . This data includes the areas of London that are more densely populated. This data was chosen because it would be a much preferable to open a restaurant in more crowded areas because the potential for profit is higher."
      ]
    },
    {
      "cell_type": "markdown",
      "metadata": {
        "id": "1x8BjW55_6Cn",
        "colab_type": "text"
      },
      "source": [
        "#**Methodology**\n",
        "First of all I used the geolocator to find the exact latitude and longtitude of these districts. After I used the coordinates to the explore the venues in foursquare with a limit of 200 and a radius of 500. After I grouped the Districts and I presented in descending order the 10 most common venues. I used clustering algorithm to find 4 clusters with most common characteristics. The density of the population is the most important but the kind of venues constitute also a crucial role to find the best place to open a restaurant."
      ]
    },
    {
      "cell_type": "markdown",
      "metadata": {
        "id": "kGwWLL63_6SP",
        "colab_type": "text"
      },
      "source": [
        "#**Results**\n",
        "The results from the four cluster:\n",
        "\n",
        "The first cluster in which only lambeth belongs has most common venues hotels,coffee shops and bars.\n",
        "The second cluster has many pubs and coffee shop as well as different kind of restaurants.\n",
        "The third cluster in which only Southwark belongs looks pretty similar with the first cluster but has additional fitness center and does not have so many event places.\n",
        "The fourth cluster has burger join as most common venue which means there are plenty of alternative options there for someone who is not burgers.\n"
      ]
    },
    {
      "cell_type": "markdown",
      "metadata": {
        "id": "jv7kGOan_7N_",
        "colab_type": "text"
      },
      "source": [
        "#**Conclusion**\n",
        "The best place investement to open a restaurant is a lively place but at the same time does not have so many options to eat food. In this way there is the greatest potential for more people to prefer the restaurant over other options. So in our case, I would exlude cluster 4 as the best place because it has burger join as most common venue and has many other restaurant as well. I would also exclude the second cluster there are many pubs as an alternative to go and eat as well as many other kind of restaurants. That leaves us with the option2 cluster 1 and 3 in which only Lambeth and Southwark belong perspectively. Both of those have hotels as the most common venue which means these areas attract a lot of tourism as well that make both of these options more appealing than the rest. Southwark is possibly an attractive destination for young people as long as there are many pubs, bars and fitness center as well. In combination with the many hotels this could constitute a very good option if you want to invest to restaurant that is going to adress more younger generations. However, having taken everything into consideration I would suggest that the best option to open a new restaurant is Lambeth. As far as restaurants are concerened, it has only korean restaurant which is 9th most common which means there is not great competitive rivarly and at the same time there event spaces and bars without a good option to eat afterwards so I will go with this option."
      ]
    }
  ]
}