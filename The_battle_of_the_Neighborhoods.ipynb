{
  "nbformat": 4,
  "nbformat_minor": 0,
  "metadata": {
    "colab": {
      "name": "The battle of the Neighborhoods.ipynb",
      "provenance": [],
      "collapsed_sections": []
    },
    "kernelspec": {
      "name": "python3",
      "display_name": "Python 3"
    }
  },
  "cells": [
    {
      "cell_type": "markdown",
      "metadata": {
        "id": "h74nzcaSIXHy",
        "colab_type": "text"
      },
      "source": [
        "**Question 1**\n",
        "\n",
        "In this project I will find in which areas of London it is better for someone to open a new restaurant. To figure this out I am going to see in which areas of London more people tend to check in so if there are more people there is a greater possibility for more customers.\n",
        "\n",
        "\n"
      ]
    },
    {
      "cell_type": "markdown",
      "metadata": {
        "id": "EpzXwhx5T9mD",
        "colab_type": "text"
      },
      "source": [
        "**Question 2**\n",
        "\n",
        "I am going to use this https://developer.foursquare.com/docs/api/venues/trending API and count the number of results I am going to get from categories and afterwards cluster them .\n"
      ]
    }
  ]
}